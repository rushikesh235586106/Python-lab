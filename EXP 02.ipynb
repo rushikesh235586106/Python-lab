{
  "nbformat": 4,
  "nbformat_minor": 0,
  "metadata": {
    "colab": {
      "provenance": []
    },
    "kernelspec": {
      "name": "python3",
      "display_name": "Python 3"
    },
    "language_info": {
      "name": "python"
    }
  },
  "cells": [
    {
      "cell_type": "code",
      "execution_count": 1,
      "metadata": {
        "colab": {
          "base_uri": "https://localhost:8080/"
        },
        "id": "8tiEj7IMCaOe",
        "outputId": "626f893e-9ade-4a39-abd2-d99e63db6b9e"
      },
      "outputs": [
        {
          "output_type": "stream",
          "name": "stdout",
          "text": [
            "True\n"
          ]
        }
      ],
      "source": [
        "class conditionalStatements:\n",
        "    def checkString (s : str) -> bool:\n",
        "        value = False\n",
        "        for char in s:\n",
        "            if char == 'b':\n",
        "                value = True\n",
        "            elif char == 'a' and value:\n",
        "                 return False\n",
        "        return True\n",
        "    input_str = \"abbbb\"\n",
        "    result = checkString(input_str)\n",
        "    print(result)\n"
      ]
    }
  ]
}
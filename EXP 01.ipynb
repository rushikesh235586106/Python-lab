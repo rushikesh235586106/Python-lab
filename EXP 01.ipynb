{
  "nbformat": 4,
  "nbformat_minor": 0,
  "metadata": {
    "colab": {
      "provenance": []
    },
    "kernelspec": {
      "name": "python3",
      "display_name": "Python 3"
    },
    "language_info": {
      "name": "python"
    }
  },
  "cells": [
    {
      "cell_type": "markdown",
      "source": [
        "Rushikesh Solat (40)"
      ],
      "metadata": {
        "id": "4OwJCHzqDuyo"
      }
    },
    {
      "cell_type": "markdown",
      "source": [
        "Strings in Python"
      ],
      "metadata": {
        "id": "cYagGm0kD2-_"
      }
    },
    {
      "cell_type": "code",
      "source": [
        "# Assigning string to a variable\n",
        "a = 'This is a string'\n",
        "print (a)\n",
        "b = \"This is a string\"\n",
        "print (b)\n",
        "c= '''This is a string'''\n",
        "print (c)"
      ],
      "metadata": {
        "colab": {
          "base_uri": "https://localhost:8080/"
        },
        "id": "eiDvfKPxDOx-",
        "outputId": "5158a356-a6bb-48fe-93ca-8cc41a339b97"
      },
      "execution_count": 2,
      "outputs": [
        {
          "output_type": "stream",
          "name": "stdout",
          "text": [
            "This is a string\n",
            "This is a string\n",
            "This is a string\n"
          ]
        }
      ]
    },
    {
      "cell_type": "markdown",
      "source": [
        "Lists in Python"
      ],
      "metadata": {
        "id": "RrlYKCKID8iq"
      }
    },
    {
      "cell_type": "code",
      "source": [
        "# Declaring a list\n",
        "L = [1, \"a\" , \"string\" , 1+2]\n",
        "print (L)\n",
        "#Adding an element in the list\n",
        "L.append(6)\n",
        "print (L)\n",
        "#Deleting last element from a list\n",
        "L.pop()\n",
        "print (L)\n",
        "#Displaying Second element of the list\n",
        "print (L[1])"
      ],
      "metadata": {
        "colab": {
          "base_uri": "https://localhost:8080/"
        },
        "id": "3ejEXRHbDTPn",
        "outputId": "eb3832a5-9e7c-412c-df15-c99be33fd200"
      },
      "execution_count": 3,
      "outputs": [
        {
          "output_type": "stream",
          "name": "stdout",
          "text": [
            "[1, 'a', 'string', 3]\n",
            "[1, 'a', 'string', 3, 6]\n",
            "[1, 'a', 'string', 3]\n",
            "a\n"
          ]
        }
      ]
    },
    {
      "cell_type": "markdown",
      "source": [
        "Tuples in Python"
      ],
      "metadata": {
        "id": "nB5bX2DLEEas"
      }
    },
    {
      "cell_type": "code",
      "source": [
        "tup = (1, \"a\", \"string\", 1+2)\n",
        "print(tup)\n",
        "print(tup[1])"
      ],
      "metadata": {
        "colab": {
          "base_uri": "https://localhost:8080/"
        },
        "id": "TOZhAO2bDdTw",
        "outputId": "1da3d570-15a8-4aa4-db8b-272bf664b972"
      },
      "execution_count": 4,
      "outputs": [
        {
          "output_type": "stream",
          "name": "stdout",
          "text": [
            "(1, 'a', 'string', 3)\n",
            "a\n"
          ]
        }
      ]
    },
    {
      "cell_type": "markdown",
      "source": [
        "Dictionaries in Python"
      ],
      "metadata": {
        "id": "yHkTxqcMEKlH"
      }
    },
    {
      "cell_type": "code",
      "source": [
        "d = {1: 'Lorem', 2: 'Ipsum', 3: 'Dolerum'}\n",
        "print(d)"
      ],
      "metadata": {
        "colab": {
          "base_uri": "https://localhost:8080/"
        },
        "id": "sOccAwrGDf6H",
        "outputId": "f248967b-e03e-41dc-bd7d-cc6e86efef17"
      },
      "execution_count": 5,
      "outputs": [
        {
          "output_type": "stream",
          "name": "stdout",
          "text": [
            "{1: 'Lorem', 2: 'Ipsum', 3: 'Dolerum'}\n"
          ]
        }
      ]
    },
    {
      "cell_type": "markdown",
      "source": [
        "Create a Dictionary"
      ],
      "metadata": {
        "id": "KCAO6t3iEPS_"
      }
    },
    {
      "cell_type": "code",
      "source": [
        "# create dictionary using { }\n",
        "d1 = {1: 'Game', 2: 'of', 3: 'Thrones'}\n",
        "print(d1)\n",
        "\n",
        "# create dictionary using dict() constructor\n",
        "d2 = dict(a = \"House\", b = \"of\", c = \"Cards\")\n",
        "print(d2)"
      ],
      "metadata": {
        "colab": {
          "base_uri": "https://localhost:8080/"
        },
        "id": "Sm0cI6qHDkCY",
        "outputId": "20a96b96-fe50-4b78-ed7e-ca578dc08fc0"
      },
      "execution_count": 6,
      "outputs": [
        {
          "output_type": "stream",
          "name": "stdout",
          "text": [
            "{1: 'Game', 2: 'of', 3: 'Thrones'}\n",
            "{'a': 'House', 'b': 'of', 'c': 'Cards'}\n"
          ]
        }
      ]
    },
    {
      "cell_type": "markdown",
      "source": [
        "Accessing Dictionary Items"
      ],
      "metadata": {
        "id": "KUag9A4oESrv"
      }
    },
    {
      "cell_type": "code",
      "source": [
        "d = { \"name\": \"Alice\", 1: \"Python\", (1, 2): [1,2,4] }\n",
        "\n",
        "# Access using key\n",
        "print(d[\"name\"])\n",
        "\n",
        "# Access using get()\n",
        "print(d.get(\"name\"))"
      ],
      "metadata": {
        "colab": {
          "base_uri": "https://localhost:8080/"
        },
        "id": "I3vgqRGrDnCP",
        "outputId": "cadddd20-3289-44ba-fe9f-44d16abd7403"
      },
      "execution_count": 7,
      "outputs": [
        {
          "output_type": "stream",
          "name": "stdout",
          "text": [
            "Alice\n",
            "Alice\n"
          ]
        }
      ]
    },
    {
      "cell_type": "markdown",
      "source": [
        "Adding and Updating Dictionary Items"
      ],
      "metadata": {
        "id": "P3l_BvPPEWaH"
      }
    },
    {
      "cell_type": "code",
      "source": [
        "d = {1: 'Game', 2: 'of', 3: 'Thrones'}\n",
        "\n",
        "# Adding a new key-value pair\n",
        "d[\"age\"] = 22\n",
        "\n",
        "# Updating an existing value\n",
        "d[1] = \"Python dict\"\n",
        "\n",
        "print(d)"
      ],
      "metadata": {
        "colab": {
          "base_uri": "https://localhost:8080/"
        },
        "id": "frSMtyi8DpGP",
        "outputId": "0c19439b-63fe-47ad-e01d-598d9a86d3f1"
      },
      "execution_count": 8,
      "outputs": [
        {
          "output_type": "stream",
          "name": "stdout",
          "text": [
            "{1: 'Python dict', 2: 'of', 3: 'Thrones', 'age': 22}\n"
          ]
        }
      ]
    }
  ]
}
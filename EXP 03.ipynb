{
  "nbformat": 4,
  "nbformat_minor": 0,
  "metadata": {
    "colab": {
      "provenance": []
    },
    "kernelspec": {
      "name": "python3",
      "display_name": "Python 3"
    },
    "language_info": {
      "name": "python"
    }
  },
  "cells": [
    {
      "cell_type": "code",
      "execution_count": 1,
      "metadata": {
        "colab": {
          "base_uri": "https://localhost:8080/"
        },
        "id": "Hnk9TWYFJPkU",
        "outputId": "534abb29-032f-4386-de4c-600036a8c0da"
      },
      "outputs": [
        {
          "output_type": "stream",
          "name": "stdout",
          "text": [
            "Frontend\n",
            "Fullstack\n",
            "Not a developer\n",
            "Backend\n"
          ]
        }
      ],
      "source": [
        "class Employee:\n",
        "    def __init__(\n",
        "            self,\n",
        "            designation: str = 'Developer',\n",
        "            frontend: bool = False,\n",
        "            backend: bool = False\n",
        "    ):\n",
        "        self.designation = designation\n",
        "        self.frontend = frontend\n",
        "        self.backend = backend\n",
        "\n",
        "    def __repr__(self):\n",
        "        return '{}'.format(self.designation)\n",
        "\n",
        "    def verifier(self):\n",
        "        if self.frontend and self.backend:\n",
        "            return \"Fullstack\"\n",
        "        elif self.frontend:\n",
        "            return \"Frontend\"\n",
        "        elif self.backend:\n",
        "            return \"Backend\"\n",
        "        else:\n",
        "            return \"Not a developer\"\n",
        "\n",
        "if __name__ == '__main__':\n",
        "    firstEmployee = Employee(frontend=True, backend=False)\n",
        "    print(firstEmployee.verifier())\n",
        "\n",
        "    secondEmployee = Employee(frontend=True, backend=True)\n",
        "    print(secondEmployee.verifier())\n",
        "\n",
        "    thirdEmployee = Employee(frontend=False, backend=False)\n",
        "    print(thirdEmployee.verifier())\n",
        "\n",
        "    fourthEmployee = Employee(frontend=False, backend=True)\n",
        "    print(fourthEmployee.verifier())"
      ]
    }
  ]
}
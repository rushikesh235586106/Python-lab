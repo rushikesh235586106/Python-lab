{
 "cells": [
  {
   "cell_type": "code",
   "execution_count": 2,
   "id": "205baf56-c775-431e-9c24-50e643f348a7",
   "metadata": {},
   "outputs": [
    {
     "name": "stdout",
     "output_type": "stream",
     "text": [
      "\n",
      "After Writing:\n",
      "The truth is...\n",
      "\n",
      "After appending:\n",
      "The truth is...If a man says he is afraid of dying, he is either lying or is a Gorkha\n"
     ]
    }
   ],
   "source": [
    " from contextlib import contextmanager\n",
    "\n",
    "@contextmanager\n",
    "def genericFileFunction(filename, method):\n",
    "    file = open(filename, method)\n",
    "    yield file\n",
    "    file.close()\n",
    "\n",
    "if __name__ == '__main__':\n",
    "    try:\n",
    "        # Remove the pass and call the function to perform write.\n",
    "        with genericFileFunction(\"exp4.txt\", \"w\") as f:\n",
    "            f.write(\"The truth is...\")\n",
    "            print(\"\\nAfter Writing:\")\n",
    "\n",
    "        # Read the file that was created while writing.\n",
    "        with genericFileFunction(\"exp4.txt\", \"r\") as f:\n",
    "            print(f.read())\n",
    "\n",
    "        # Make the changes in the file by appending some material.\n",
    "        with genericFileFunction(\"exp4.txt\", \"a\") as f:\n",
    "            f.write(\"If a man says he is afraid of dying, he is either lying or is a Gorkha\")\n",
    "            print(\"\\nAfter appending:\")\n",
    "\n",
    "        # Again read the same file.\n",
    "        with genericFileFunction(\"exp4.txt\", \"r\") as f:\n",
    "            print(f.read())\n",
    "\n",
    "    except Exception as e:\n",
    "        print(e)"
   ]
  },
  {
   "cell_type": "code",
   "execution_count": null,
   "id": "f05a97f1-5a3f-4ba5-a4c1-65915061c161",
   "metadata": {},
   "outputs": [],
   "source": []
  }
 ],
 "metadata": {
  "kernelspec": {
   "display_name": "Python 3 (ipykernel)",
   "language": "python",
   "name": "python3"
  },
  "language_info": {
   "codemirror_mode": {
    "name": "ipython",
    "version": 3
   },
   "file_extension": ".py",
   "mimetype": "text/x-python",
   "name": "python",
   "nbconvert_exporter": "python",
   "pygments_lexer": "ipython3",
   "version": "3.13.2"
  }
 },
 "nbformat": 4,
 "nbformat_minor": 5
}
